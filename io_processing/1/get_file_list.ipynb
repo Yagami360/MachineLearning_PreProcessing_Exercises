{
 "cells": [
  {
   "cell_type": "code",
   "execution_count": 1,
   "metadata": {},
   "outputs": [],
   "source": [
    "import os\n",
    "import argparse\n",
    "import shutil"
   ]
  },
  {
   "cell_type": "code",
   "execution_count": 2,
   "metadata": {},
   "outputs": [],
   "source": [
    "parser = argparse.ArgumentParser()\n",
    "parser.add_argument( \"in_dir\", help=\"input a directory\", type=str )\n",
    "parser.add_argument( \"out_dir\", help=\"output a directory\", type=str )\n",
    "#args = parser.parse_args()\n",
    "args = parser.parse_args(args=[\"in_dir\",\"out_dir\"])  # for jyupter notebook\n",
    "in_dir = args.in_dir\n",
    "out_dir = args.out_dir"
   ]
  },
  {
   "cell_type": "markdown",
   "metadata": {},
   "source": [
    "出力ディレクトリは存在するかチェックし、存在しない場合はフォルダを作成する処理を入れること。<br>\n",
    "フォルダの存在確認は、`os.path.isdir()` 又は `os.path.exists()` で行える。"
   ]
  },
  {
   "cell_type": "code",
   "execution_count": 3,
   "metadata": {},
   "outputs": [],
   "source": [
    "#if( os.path.isdir(out_dir) == False ):\n",
    "if ( os.path.exists(out_dir) == False ):\n",
    "    # フォルダの作成は、`os.makedirs()` で行える。\n",
    "    os.makedirs(out_dir)"
   ]
  },
  {
   "cell_type": "markdown",
   "metadata": {},
   "source": [
    "フォルダ内の全ファイルは、`os.listdir()` で取得出来る。"
   ]
  },
  {
   "cell_type": "code",
   "execution_count": 4,
   "metadata": {},
   "outputs": [
    {
     "name": "stdout",
     "output_type": "stream",
     "text": [
      "files : ['file2.txt', 'file3.txt', 'file1.txt', 'dir']\n"
     ]
    }
   ],
   "source": [
    "files = os.listdir(in_dir)\n",
    "print( \"files :\", files )"
   ]
  },
  {
   "cell_type": "markdown",
   "metadata": {},
   "source": [
    "ソートされていないことに注意。<br>\n",
    "a,b, .. 順にソート"
   ]
  },
  {
   "cell_type": "code",
   "execution_count": 5,
   "metadata": {},
   "outputs": [
    {
     "name": "stdout",
     "output_type": "stream",
     "text": [
      "files_sorted : ['dir', 'file1.txt', 'file2.txt', 'file3.txt']\n"
     ]
    }
   ],
   "source": [
    "files_sorted = sorted( os.listdir(in_dir) )\n",
    "print( \"files_sorted :\", files_sorted )"
   ]
  },
  {
   "cell_type": "markdown",
   "metadata": {},
   "source": [
    "サブディレクトリも取得されていることに注意。<br>\n",
    "ファイルのみの一覧を取得"
   ]
  },
  {
   "cell_type": "code",
   "execution_count": 6,
   "metadata": {
    "scrolled": true
   },
   "outputs": [
    {
     "name": "stdout",
     "output_type": "stream",
     "text": [
      "files_only : ['file2.txt', 'file3.txt', 'file1.txt']\n"
     ]
    }
   ],
   "source": [
    "files_only = []\n",
    "for f in os.listdir(in_dir):\n",
    "    if( os.path.isfile( os.path.join(in_dir,f) ) ):\n",
    "        files_only.append(f)\n",
    "    \n",
    "print( \"files_only :\", files_only )"
   ]
  },
  {
   "cell_type": "markdown",
   "metadata": {},
   "source": [
    "ファイルのみ出力\n",
    "コピーするときは、コピー元にファイルが存在するか `os.path.isfile()` で確認すること"
   ]
  },
  {
   "cell_type": "code",
   "execution_count": 7,
   "metadata": {},
   "outputs": [],
   "source": [
    "# ファイルのみ出力\n",
    "for f in files_only:\n",
    "    full_path = os.path.join( in_dir, f )\n",
    "    # コピーするときは、コピー元にファイルが存在するか `os.path.isfile()` で確認すること\n",
    "    if( os.path.isfile(full_path) ):\n",
    "        shutil.copy( full_path, out_dir )"
   ]
  }
 ],
 "metadata": {
  "file_extension": ".py",
  "kernelspec": {
   "display_name": "Python 3",
   "language": "python",
   "name": "python3"
  },
  "language_info": {
   "codemirror_mode": {
    "name": "ipython",
    "version": 3
   },
   "file_extension": ".py",
   "mimetype": "text/x-python",
   "name": "python",
   "nbconvert_exporter": "python",
   "pygments_lexer": "ipython3",
   "version": "3.7.0"
  },
  "mimetype": "text/x-python",
  "name": "python",
  "npconvert_exporter": "python",
  "pygments_lexer": "ipython3",
  "version": 3
 },
 "nbformat": 4,
 "nbformat_minor": 2
}
